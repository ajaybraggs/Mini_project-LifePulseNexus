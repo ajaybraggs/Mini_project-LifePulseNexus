{
 "cells": [
  {
   "cell_type": "code",
   "execution_count": 24,
   "id": "03a2a681",
   "metadata": {},
   "outputs": [
    {
     "name": "stderr",
     "output_type": "stream",
     "text": [
      "C:\\ProgramData\\Anaconda3\\lib\\site-packages\\sklearn\\base.py:450: UserWarning: X does not have valid feature names, but DecisionTreeClassifier was fitted with feature names\n",
      "  warnings.warn(\n"
     ]
    }
   ],
   "source": [
    "import tkinter as tk\n",
    "from tkinter import ttk\n",
    "from tkinter import IntVar\n",
    "\n",
    "import pandas as pd\n",
    "from sklearn.tree import DecisionTreeClassifier\n",
    "\n",
    "# Load the dataset\n",
    "dataset = pd.read_csv('Testing.csv')  # Replace 'your_dataset.csv' with your actual dataset\n",
    "\n",
    "# Extract features and target variable\n",
    "X = dataset.drop('prognosis', axis=1)\n",
    "y = dataset['prognosis']\n",
    "\n",
    "# Initialize the Decision Tree Classifier\n",
    "clf = DecisionTreeClassifier()\n",
    "clf.fit(X, y)\n",
    "\n",
    "# Function to predict disease\n",
    "def predict_disease():\n",
    "    selected_symptoms = [var.get() for var in symptom_vars]\n",
    "    predicted_disease = clf.predict([selected_symptoms])\n",
    "    result_label.config(text=\"Predicted Disease: \" + predicted_disease[0])\n",
    "\n",
    "# Initialize Tkinter\n",
    "root = tk.Tk()\n",
    "root.title(\"Disease Prediction\")\n",
    "\n",
    "# Create a frame for symptoms with a scrollbar\n",
    "symptom_frame = tk.Frame(root)\n",
    "symptom_frame.pack(fill=tk.BOTH, expand=True)\n",
    "\n",
    "canvas = tk.Canvas(symptom_frame)\n",
    "canvas.pack(side=tk.LEFT, fill=tk.BOTH, expand=True)\n",
    "\n",
    "scrollbar = ttk.Scrollbar(symptom_frame, orient=tk.VERTICAL, command=canvas.yview)\n",
    "scrollbar.pack(side=tk.RIGHT, fill=tk.Y)\n",
    "\n",
    "canvas.configure(yscrollcommand=scrollbar.set)\n",
    "\n",
    "inner_frame = tk.Frame(canvas)\n",
    "canvas.create_window((0, 0), window=inner_frame, anchor=tk.NW)\n",
    "\n",
    "# Create checkboxes for symptoms\n",
    "symptoms = ['itching','skin_rash','nodal_skin_eruptions','continuous_sneezing','shivering','chills','joint_pain','stomach_pain','acidity','ulcers_on_tongue','muscle_wasting','vomiting','burning_micturition','spotting_ urination','fatigue','weight_gain','anxiety','cold_hands_and_feets','mood_swings','weight_loss','restlessness','lethargy','patches_in_throat','irregular_sugar_level','cough','high_fever','sunken_eyes','breathlessness','sweating','dehydration','indigestion','headache','yellowish_skin','dark_urine','nausea','loss_of_appetite','pain_behind_the_eyes','back_pain','constipation','abdominal_pain','diarrhoea','mild_fever','yellow_urine','yellowing_of_eyes','acute_liver_failure','fluid_overload','swelling_of_stomach','swelled_lymph_nodes','malaise','blurred_and_distorted_vision','phlegm','throat_irritation','redness_of_eyes','sinus_pressure','runny_nose','congestion','chest_pain','weakness_in_limbs','fast_heart_rate','pain_during_bowel_movements','pain_in_anal_region','bloody_stool','irritation_in_anus','neck_pain','dizziness','cramps','bruising','obesity','swollen_legs','swollen_blood_vessels','puffy_face_and_eyes','enlarged_thyroid','brittle_nails','swollen_extremeties','excessive_hunger','extra_marital_contacts','drying_and_tingling_lips','slurred_speech','knee_pain','hip_joint_pain','muscle_weakness','stiff_neck','swelling_joints','movement_stiffness','spinning_movements','loss_of_balance','unsteadiness','weakness_of_one_body_side','loss_of_smell','bladder_discomfort','foul_smell_of urine','continuous_feel_of_urine','passage_of_gases','internal_itching','toxic_look_(typhos)','depression','irritability','muscle_pain','altered_sensorium','red_spots_over_body','belly_pain','abnormal_menstruation','dischromic _patches','watering_from_eyes','increased_appetite','polyuria','family_history','mucoid_sputum','rusty_sputum','lack_of_concentration','visual_disturbances','receiving_blood_transfusion','receiving_unsterile_injections','coma','stomach_bleeding','distention_of_abdomen','history_of_alcohol_consumption','fluid_overload','blood_in_sputum','prominent_veins_on_calf','palpitations','painful_walking','pus_filled_pimples','blackheads','scurring','skin_peeling','silver_like_dusting','small_dents_in_nails','inflammatory_nails','blister','red_sore_around_nose','yellow_crust_ooze'\n",
    "]  # Replace with your actual symptoms\n",
    "symptom_vars = []\n",
    "\n",
    "num_columns = 4\n",
    "\n",
    "for i, symptom in enumerate(symptoms):\n",
    "    var = IntVar(value=0)\n",
    "    checkbox = ttk.Checkbutton(inner_frame, text=symptom, variable=var)\n",
    "    checkbox.grid(row=i // num_columns, column=i % num_columns, padx=10, pady=5, sticky=tk.W)\n",
    "    symptom_vars.append(var)\n",
    "\n",
    "# Update the scroll region\n",
    "inner_frame.update_idletasks()\n",
    "canvas.configure(scrollregion=canvas.bbox(\"all\"))\n",
    "\n",
    "# Create a submit button\n",
    "submit_button = ttk.Button(root, text=\"Submit\", command=predict_disease)\n",
    "submit_button.pack(pady=10)\n",
    "\n",
    "# Create a label to display the predicted disease\n",
    "result_label = ttk.Label(root, text=\"\")\n",
    "result_label.pack(pady=5)\n",
    "\n",
    "root.mainloop()\n"
   ]
  },
  {
   "cell_type": "code",
   "execution_count": null,
   "id": "a51cf5e1",
   "metadata": {},
   "outputs": [],
   "source": []
  }
 ],
 "metadata": {
  "kernelspec": {
   "display_name": "Python 3 (ipykernel)",
   "language": "python",
   "name": "python3"
  },
  "language_info": {
   "codemirror_mode": {
    "name": "ipython",
    "version": 3
   },
   "file_extension": ".py",
   "mimetype": "text/x-python",
   "name": "python",
   "nbconvert_exporter": "python",
   "pygments_lexer": "ipython3",
   "version": "3.9.13"
  }
 },
 "nbformat": 4,
 "nbformat_minor": 5
}
